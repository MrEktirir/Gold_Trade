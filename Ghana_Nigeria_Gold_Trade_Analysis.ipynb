{
 "cells": [
  {
   "cell_type": "markdown",
   "id": "5e3c7fa7",
   "metadata": {},
   "source": [
    "# Introduction"
   ]
  },
  {
   "cell_type": "markdown",
   "id": "d2428c32",
   "metadata": {},
   "source": [
    "With this data set, we will examine the gold export structure of Ghana and Nigeria worldwide. The aim is to evaluate the gold export trends, volumes and impact of these two countries on the world market. Dataset gathered form UN Comtrade."
   ]
  },
  {
   "cell_type": "markdown",
   "id": "3f0693ec",
   "metadata": {},
   "source": [
    "## Dataset Columns & Definitions"
   ]
  },
  {
   "cell_type": "markdown",
   "id": "9d013d1c",
   "metadata": {},
   "source": [
    "**TypeCode**: Identifies the type of record, typically indicating whether it's commercial goods, services, etc.\n",
    "\n",
    "**FreqCode**: Indicates the frequency of the data report (e.g., 'M' for monthly, 'A' for annual).\n",
    "\n",
    "**RefPeriodId**: A unique identifier for the reference period of the data, often combining year and month.\n",
    "\n",
    "**RefYear**: The year to which the data pertains.\n",
    "\n",
    "**RefMonth**: The month to which the data pertains.\n",
    "\n",
    "**Period**: A combined year and month format that specifies the exact period of the data report.\n",
    "\n",
    "**ReporterCode**: Numeric code representing the country that reported the data.\n",
    "\n",
    "**ReporterISO**: The ISO code of the reporting country.\n",
    "\n",
    "**ReporterDesc**: Descriptive name of the reporting country.\n",
    "\n",
    "**FlowCode**: Code indicating the direction of trade flow (e.g., exports or imports).\n",
    "\n",
    "**FlowDesc**: Description of the trade flow type.\n",
    "\n",
    "**PartnerCode**: Numeric code representing the partner country in the trade.\n",
    "\n",
    "**PartnerISO**: The ISO code of the partner country.\n",
    "\n",
    "**PartnerDesc**: Descriptive name of the partner country.\n",
    "\n",
    "**Partner2Code**: Numeric code for a secondary partner country, if applicable.\n",
    "\n",
    "**Partner2ISO**: ISO code of a secondary partner country.\n",
    "\n",
    "**Partner2Desc**: Description of a secondary partner country.\n",
    "\n",
    "**ClassificationCode**: Code of the classification used for the products or services in the report.\n",
    "\n",
    "**ClassificationSearchCode**: A searchable version of the classification code.\n",
    "\n",
    "**IsOriginalClassification**: Boolean indicating whether the classification is the original one used by the reporting country.\n",
    "\n",
    "**CmdCode**: Code for the commodity or service reported.\n",
    "\n",
    "**CmdDesc**: Description of the commodity or service.\n",
    "\n",
    "**AggrLevel**: Level of aggregation of the data.\n",
    "\n",
    "**IsLeaf**: Boolean indicating if the data point is at the lowest level of the classification tree.\n",
    "\n",
    "**CustomsCode**: Code used by customs for the reported items.\n",
    "\n",
    "**CustomsDesc**: Description of the customs code.\n",
    "\n",
    "**MosCode**: Code indicating the mode of shipment.\n",
    "\n",
    "**MotCode**: Mode of transport code.\n",
    "\n",
    "**MotDesc**: Description of the mode of transport.\n",
    "\n",
    "**QtyUnitCode**: Code for the unit of quantity in which the goods are measured.\n",
    "\n",
    "**QtyUnitAbbr**: Abbreviation of the quantity unit.\n",
    "\n",
    "**Qty**: Quantity of the goods traded.\n",
    "\n",
    "**IsQtyEstimated**: Boolean indicating whether the quantity is estimated.\n",
    "\n",
    "**AltQtyUnitCode**: Code for an alternate unit of quantity.\n",
    "\n",
    "**AltQtyUnitAbbr**: Abbreviation for the alternate unit of quantity.\n",
    "\n",
    "**AltQty**: Alternate quantity measurement, if used.\n",
    "\n",
    "**IsAltQtyEstimated**: Boolean indicating whether the alternate quantity is estimated.\n",
    "\n",
    "**NetWgt**: Net weight of the goods traded.\n",
    "\n",
    "**IsNetWgtEstimated**: Boolean indicating whether the net weight is estimated.\n",
    "\n",
    "**GrossWgt**: Gross weight of the goods traded.\n",
    "\n",
    "**IsGrossWgtEstimated**: Boolean indicating whether the gross weight is estimated.\n",
    "\n",
    "**Cifvalue**: CIF (Cost, Insurance, Freight) value of the goods imported.\n",
    "\n",
    "**Fobvalue**: FOB (Free on Board) value of the goods exported.\n",
    "\n",
    "**PrimaryValue**: The primary monetary value of the trade.\n",
    "\n",
    "**LegacyEstimationFlag**: Indicates if the values are based on legacy estimation methods.\n",
    "\n",
    "**IsReported**: Boolean indicating whether the data was directly reported by the country.\n",
    "\n",
    "**IsAggregate**: Boolean indicating whether the data is an aggregation of multiple records."
   ]
  },
  {
   "cell_type": "markdown",
   "id": "c044e44e",
   "metadata": {},
   "source": [
    "## Libraries"
   ]
  },
  {
   "cell_type": "code",
   "execution_count": 1,
   "id": "479a0ffc",
   "metadata": {},
   "outputs": [],
   "source": [
    "import pandas as pd\n",
    "import numpy as np\n",
    "import seaborn as sns\n",
    "import matplotlib.pyplot as plt\n",
    "\n",
    "pd.set_option('display.max_columns', None)\n",
    "pd.set_option('display.max_rows', None)\n",
    "pd.set_option('display.width', None)\n",
    "pd.set_option('display.expand_frame_repr', False)"
   ]
  },
  {
   "cell_type": "markdown",
   "id": "601c723a",
   "metadata": {},
   "source": [
    "### Data Import"
   ]
  },
  {
   "cell_type": "code",
   "execution_count": 2,
   "id": "7646175d",
   "metadata": {},
   "outputs": [],
   "source": [
    "# In local, I identify the current path of dataset\n",
    "file_path = r\"C:\\Users\\MRE\\Desktop\\Data Science & Business\\Project\\Dataset\\aga_bu_son_olsun_artik.csv\"\n",
    "\n",
    "# Then I upload\n",
    "df = pd.read_csv(file_path, encoding='iso-8859-1')"
   ]
  },
  {
   "cell_type": "code",
   "execution_count": 3,
   "id": "98f9d40d",
   "metadata": {},
   "outputs": [
    {
     "data": {
      "text/html": [
       "<div>\n",
       "<style scoped>\n",
       "    .dataframe tbody tr th:only-of-type {\n",
       "        vertical-align: middle;\n",
       "    }\n",
       "\n",
       "    .dataframe tbody tr th {\n",
       "        vertical-align: top;\n",
       "    }\n",
       "\n",
       "    .dataframe thead th {\n",
       "        text-align: right;\n",
       "    }\n",
       "</style>\n",
       "<table border=\"1\" class=\"dataframe\">\n",
       "  <thead>\n",
       "    <tr style=\"text-align: right;\">\n",
       "      <th></th>\n",
       "      <th>TypeCode</th>\n",
       "      <th>FreqCode</th>\n",
       "      <th>RefPeriodId</th>\n",
       "      <th>RefYear</th>\n",
       "      <th>RefMonth</th>\n",
       "      <th>Period</th>\n",
       "      <th>ReporterCode</th>\n",
       "      <th>ReporterISO</th>\n",
       "      <th>ReporterDesc</th>\n",
       "      <th>FlowCode</th>\n",
       "      <th>FlowDesc</th>\n",
       "      <th>PartnerCode</th>\n",
       "      <th>PartnerISO</th>\n",
       "      <th>PartnerDesc</th>\n",
       "      <th>Partner2Code</th>\n",
       "      <th>Partner2ISO</th>\n",
       "      <th>Partner2Desc</th>\n",
       "      <th>ClassificationCode</th>\n",
       "      <th>ClassificationSearchCode</th>\n",
       "      <th>IsOriginalClassification</th>\n",
       "      <th>CmdCode</th>\n",
       "      <th>CmdDesc</th>\n",
       "      <th>AggrLevel</th>\n",
       "      <th>IsLeaf</th>\n",
       "      <th>CustomsCode</th>\n",
       "      <th>CustomsDesc</th>\n",
       "      <th>MosCode</th>\n",
       "      <th>MotCode</th>\n",
       "      <th>MotDesc</th>\n",
       "      <th>QtyUnitCode</th>\n",
       "      <th>QtyUnitAbbr</th>\n",
       "      <th>Qty</th>\n",
       "      <th>IsQtyEstimated</th>\n",
       "      <th>AltQtyUnitCode</th>\n",
       "      <th>AltQtyUnitAbbr</th>\n",
       "      <th>AltQty</th>\n",
       "      <th>IsAltQtyEstimated</th>\n",
       "      <th>NetWgt</th>\n",
       "      <th>IsNetWgtEstimated</th>\n",
       "      <th>GrossWgt</th>\n",
       "      <th>IsGrossWgtEstimated</th>\n",
       "      <th>Cifvalue</th>\n",
       "      <th>Fobvalue</th>\n",
       "      <th>PrimaryValue</th>\n",
       "      <th>LegacyEstimationFlag</th>\n",
       "      <th>IsReported</th>\n",
       "      <th>IsAggregate</th>\n",
       "      <th>Unnamed: 47</th>\n",
       "    </tr>\n",
       "  </thead>\n",
       "  <tbody>\n",
       "    <tr>\n",
       "      <th>0</th>\n",
       "      <td>C</td>\n",
       "      <td>A</td>\n",
       "      <td>20170101</td>\n",
       "      <td>2017</td>\n",
       "      <td>52</td>\n",
       "      <td>2017</td>\n",
       "      <td>288</td>\n",
       "      <td>GHA</td>\n",
       "      <td>Ghana</td>\n",
       "      <td>X</td>\n",
       "      <td>Export</td>\n",
       "      <td>0</td>\n",
       "      <td>W00</td>\n",
       "      <td>World</td>\n",
       "      <td>0</td>\n",
       "      <td>W00</td>\n",
       "      <td>World</td>\n",
       "      <td>H4</td>\n",
       "      <td>HS</td>\n",
       "      <td>True</td>\n",
       "      <td>7108</td>\n",
       "      <td>Gold (including gold plated with platinum) unw...</td>\n",
       "      <td>4</td>\n",
       "      <td>False</td>\n",
       "      <td>C00</td>\n",
       "      <td>TOTAL CPC</td>\n",
       "      <td>0</td>\n",
       "      <td>0</td>\n",
       "      <td>TOTAL MOT</td>\n",
       "      <td>8</td>\n",
       "      <td>kg</td>\n",
       "      <td>197809.923</td>\n",
       "      <td>True</td>\n",
       "      <td>-1</td>\n",
       "      <td>NaN</td>\n",
       "      <td>0.00</td>\n",
       "      <td>False</td>\n",
       "      <td>NaN</td>\n",
       "      <td>True</td>\n",
       "      <td>NaN</td>\n",
       "      <td>False</td>\n",
       "      <td>NaN</td>\n",
       "      <td>5.858281e+09</td>\n",
       "      <td>5.858281e+09</td>\n",
       "      <td>0</td>\n",
       "      <td>False</td>\n",
       "      <td>True</td>\n",
       "      <td>NaN</td>\n",
       "    </tr>\n",
       "    <tr>\n",
       "      <th>1</th>\n",
       "      <td>C</td>\n",
       "      <td>A</td>\n",
       "      <td>20170101</td>\n",
       "      <td>2017</td>\n",
       "      <td>52</td>\n",
       "      <td>2017</td>\n",
       "      <td>288</td>\n",
       "      <td>GHA</td>\n",
       "      <td>Ghana</td>\n",
       "      <td>X</td>\n",
       "      <td>Export</td>\n",
       "      <td>36</td>\n",
       "      <td>AUS</td>\n",
       "      <td>Australia</td>\n",
       "      <td>0</td>\n",
       "      <td>W00</td>\n",
       "      <td>World</td>\n",
       "      <td>H4</td>\n",
       "      <td>HS</td>\n",
       "      <td>True</td>\n",
       "      <td>7108</td>\n",
       "      <td>Gold (including gold plated with platinum) unw...</td>\n",
       "      <td>4</td>\n",
       "      <td>False</td>\n",
       "      <td>C00</td>\n",
       "      <td>TOTAL CPC</td>\n",
       "      <td>0</td>\n",
       "      <td>0</td>\n",
       "      <td>TOTAL MOT</td>\n",
       "      <td>8</td>\n",
       "      <td>kg</td>\n",
       "      <td>28.140</td>\n",
       "      <td>False</td>\n",
       "      <td>8</td>\n",
       "      <td>kg</td>\n",
       "      <td>28.14</td>\n",
       "      <td>False</td>\n",
       "      <td>28.14</td>\n",
       "      <td>False</td>\n",
       "      <td>NaN</td>\n",
       "      <td>False</td>\n",
       "      <td>NaN</td>\n",
       "      <td>1.103010e+06</td>\n",
       "      <td>1.103010e+06</td>\n",
       "      <td>0</td>\n",
       "      <td>False</td>\n",
       "      <td>True</td>\n",
       "      <td>NaN</td>\n",
       "    </tr>\n",
       "    <tr>\n",
       "      <th>2</th>\n",
       "      <td>C</td>\n",
       "      <td>A</td>\n",
       "      <td>20170101</td>\n",
       "      <td>2017</td>\n",
       "      <td>52</td>\n",
       "      <td>2017</td>\n",
       "      <td>288</td>\n",
       "      <td>GHA</td>\n",
       "      <td>Ghana</td>\n",
       "      <td>X</td>\n",
       "      <td>Export</td>\n",
       "      <td>56</td>\n",
       "      <td>BEL</td>\n",
       "      <td>Belgium</td>\n",
       "      <td>0</td>\n",
       "      <td>W00</td>\n",
       "      <td>World</td>\n",
       "      <td>H4</td>\n",
       "      <td>HS</td>\n",
       "      <td>True</td>\n",
       "      <td>7108</td>\n",
       "      <td>Gold (including gold plated with platinum) unw...</td>\n",
       "      <td>4</td>\n",
       "      <td>False</td>\n",
       "      <td>C00</td>\n",
       "      <td>TOTAL CPC</td>\n",
       "      <td>0</td>\n",
       "      <td>0</td>\n",
       "      <td>TOTAL MOT</td>\n",
       "      <td>8</td>\n",
       "      <td>kg</td>\n",
       "      <td>20.740</td>\n",
       "      <td>False</td>\n",
       "      <td>8</td>\n",
       "      <td>kg</td>\n",
       "      <td>20.74</td>\n",
       "      <td>False</td>\n",
       "      <td>20.74</td>\n",
       "      <td>False</td>\n",
       "      <td>NaN</td>\n",
       "      <td>False</td>\n",
       "      <td>NaN</td>\n",
       "      <td>9.274560e+05</td>\n",
       "      <td>9.274560e+05</td>\n",
       "      <td>0</td>\n",
       "      <td>False</td>\n",
       "      <td>True</td>\n",
       "      <td>NaN</td>\n",
       "    </tr>\n",
       "    <tr>\n",
       "      <th>3</th>\n",
       "      <td>C</td>\n",
       "      <td>A</td>\n",
       "      <td>20170101</td>\n",
       "      <td>2017</td>\n",
       "      <td>52</td>\n",
       "      <td>2017</td>\n",
       "      <td>288</td>\n",
       "      <td>GHA</td>\n",
       "      <td>Ghana</td>\n",
       "      <td>X</td>\n",
       "      <td>Export</td>\n",
       "      <td>76</td>\n",
       "      <td>BRA</td>\n",
       "      <td>Brazil</td>\n",
       "      <td>0</td>\n",
       "      <td>W00</td>\n",
       "      <td>World</td>\n",
       "      <td>H4</td>\n",
       "      <td>HS</td>\n",
       "      <td>True</td>\n",
       "      <td>7108</td>\n",
       "      <td>Gold (including gold plated with platinum) unw...</td>\n",
       "      <td>4</td>\n",
       "      <td>False</td>\n",
       "      <td>C00</td>\n",
       "      <td>TOTAL CPC</td>\n",
       "      <td>0</td>\n",
       "      <td>0</td>\n",
       "      <td>TOTAL MOT</td>\n",
       "      <td>8</td>\n",
       "      <td>kg</td>\n",
       "      <td>0.590</td>\n",
       "      <td>False</td>\n",
       "      <td>8</td>\n",
       "      <td>kg</td>\n",
       "      <td>0.59</td>\n",
       "      <td>False</td>\n",
       "      <td>0.59</td>\n",
       "      <td>False</td>\n",
       "      <td>NaN</td>\n",
       "      <td>False</td>\n",
       "      <td>NaN</td>\n",
       "      <td>4.926127e+03</td>\n",
       "      <td>4.926127e+03</td>\n",
       "      <td>0</td>\n",
       "      <td>False</td>\n",
       "      <td>True</td>\n",
       "      <td>NaN</td>\n",
       "    </tr>\n",
       "    <tr>\n",
       "      <th>4</th>\n",
       "      <td>C</td>\n",
       "      <td>A</td>\n",
       "      <td>20170101</td>\n",
       "      <td>2017</td>\n",
       "      <td>52</td>\n",
       "      <td>2017</td>\n",
       "      <td>288</td>\n",
       "      <td>GHA</td>\n",
       "      <td>Ghana</td>\n",
       "      <td>X</td>\n",
       "      <td>Export</td>\n",
       "      <td>124</td>\n",
       "      <td>CAN</td>\n",
       "      <td>Canada</td>\n",
       "      <td>0</td>\n",
       "      <td>W00</td>\n",
       "      <td>World</td>\n",
       "      <td>H4</td>\n",
       "      <td>HS</td>\n",
       "      <td>True</td>\n",
       "      <td>7108</td>\n",
       "      <td>Gold (including gold plated with platinum) unw...</td>\n",
       "      <td>4</td>\n",
       "      <td>False</td>\n",
       "      <td>C00</td>\n",
       "      <td>TOTAL CPC</td>\n",
       "      <td>0</td>\n",
       "      <td>0</td>\n",
       "      <td>TOTAL MOT</td>\n",
       "      <td>8</td>\n",
       "      <td>kg</td>\n",
       "      <td>0.460</td>\n",
       "      <td>False</td>\n",
       "      <td>8</td>\n",
       "      <td>kg</td>\n",
       "      <td>0.46</td>\n",
       "      <td>False</td>\n",
       "      <td>0.46</td>\n",
       "      <td>False</td>\n",
       "      <td>NaN</td>\n",
       "      <td>False</td>\n",
       "      <td>NaN</td>\n",
       "      <td>1.940124e+04</td>\n",
       "      <td>1.940124e+04</td>\n",
       "      <td>0</td>\n",
       "      <td>False</td>\n",
       "      <td>True</td>\n",
       "      <td>NaN</td>\n",
       "    </tr>\n",
       "  </tbody>\n",
       "</table>\n",
       "</div>"
      ],
      "text/plain": [
       "  TypeCode FreqCode  RefPeriodId  RefYear  RefMonth  Period  ReporterCode ReporterISO ReporterDesc FlowCode FlowDesc  PartnerCode PartnerISO PartnerDesc  Partner2Code Partner2ISO Partner2Desc ClassificationCode ClassificationSearchCode  IsOriginalClassification  CmdCode                                            CmdDesc  AggrLevel  IsLeaf CustomsCode CustomsDesc  MosCode  MotCode    MotDesc  QtyUnitCode QtyUnitAbbr         Qty  IsQtyEstimated  AltQtyUnitCode AltQtyUnitAbbr  AltQty  IsAltQtyEstimated  NetWgt  IsNetWgtEstimated  GrossWgt  IsGrossWgtEstimated  Cifvalue      Fobvalue  PrimaryValue  LegacyEstimationFlag  IsReported  IsAggregate  Unnamed: 47\n",
       "0        C        A     20170101     2017        52    2017           288         GHA        Ghana        X   Export            0        W00       World             0         W00        World                 H4                       HS                      True     7108  Gold (including gold plated with platinum) unw...          4   False         C00   TOTAL CPC        0        0  TOTAL MOT            8          kg  197809.923            True              -1            NaN    0.00              False     NaN               True       NaN                False       NaN  5.858281e+09  5.858281e+09                     0       False         True          NaN\n",
       "1        C        A     20170101     2017        52    2017           288         GHA        Ghana        X   Export           36        AUS   Australia             0         W00        World                 H4                       HS                      True     7108  Gold (including gold plated with platinum) unw...          4   False         C00   TOTAL CPC        0        0  TOTAL MOT            8          kg      28.140           False               8             kg   28.14              False   28.14              False       NaN                False       NaN  1.103010e+06  1.103010e+06                     0       False         True          NaN\n",
       "2        C        A     20170101     2017        52    2017           288         GHA        Ghana        X   Export           56        BEL     Belgium             0         W00        World                 H4                       HS                      True     7108  Gold (including gold plated with platinum) unw...          4   False         C00   TOTAL CPC        0        0  TOTAL MOT            8          kg      20.740           False               8             kg   20.74              False   20.74              False       NaN                False       NaN  9.274560e+05  9.274560e+05                     0       False         True          NaN\n",
       "3        C        A     20170101     2017        52    2017           288         GHA        Ghana        X   Export           76        BRA      Brazil             0         W00        World                 H4                       HS                      True     7108  Gold (including gold plated with platinum) unw...          4   False         C00   TOTAL CPC        0        0  TOTAL MOT            8          kg       0.590           False               8             kg    0.59              False    0.59              False       NaN                False       NaN  4.926127e+03  4.926127e+03                     0       False         True          NaN\n",
       "4        C        A     20170101     2017        52    2017           288         GHA        Ghana        X   Export          124        CAN      Canada             0         W00        World                 H4                       HS                      True     7108  Gold (including gold plated with platinum) unw...          4   False         C00   TOTAL CPC        0        0  TOTAL MOT            8          kg       0.460           False               8             kg    0.46              False    0.46              False       NaN                False       NaN  1.940124e+04  1.940124e+04                     0       False         True          NaN"
      ]
     },
     "execution_count": 3,
     "metadata": {},
     "output_type": "execute_result"
    }
   ],
   "source": [
    "# First look to dataset\n",
    "df.head(5)"
   ]
  },
  {
   "cell_type": "markdown",
   "id": "e5a42f89",
   "metadata": {},
   "source": [
    "## Data Exploration"
   ]
  },
  {
   "cell_type": "code",
   "execution_count": 4,
   "id": "f3c901f2",
   "metadata": {},
   "outputs": [
    {
     "data": {
      "text/plain": [
       "(368, 48)"
      ]
     },
     "execution_count": 4,
     "metadata": {},
     "output_type": "execute_result"
    }
   ],
   "source": [
    "# Let's look the shape of dataset\n",
    "df.shape"
   ]
  },
  {
   "cell_type": "markdown",
   "id": "13fac5b0",
   "metadata": {},
   "source": [
    "* As we can see here, dataset has 368 rows, and 48 columns."
   ]
  },
  {
   "cell_type": "code",
   "execution_count": 5,
   "id": "92197be2",
   "metadata": {
    "scrolled": true
   },
   "outputs": [
    {
     "data": {
      "text/plain": [
       "TypeCode                     object\n",
       "FreqCode                     object\n",
       "RefPeriodId                   int64\n",
       "RefYear                       int64\n",
       "RefMonth                      int64\n",
       "Period                        int64\n",
       "ReporterCode                  int64\n",
       "ReporterISO                  object\n",
       "ReporterDesc                 object\n",
       "FlowCode                     object\n",
       "FlowDesc                     object\n",
       "PartnerCode                   int64\n",
       "PartnerISO                   object\n",
       "PartnerDesc                  object\n",
       "Partner2Code                  int64\n",
       "Partner2ISO                  object\n",
       "Partner2Desc                 object\n",
       "ClassificationCode           object\n",
       "ClassificationSearchCode     object\n",
       "IsOriginalClassification       bool\n",
       "CmdCode                       int64\n",
       "CmdDesc                      object\n",
       "AggrLevel                     int64\n",
       "IsLeaf                         bool\n",
       "CustomsCode                  object\n",
       "CustomsDesc                  object\n",
       "MosCode                       int64\n",
       "MotCode                       int64\n",
       "MotDesc                      object\n",
       "QtyUnitCode                   int64\n",
       "QtyUnitAbbr                  object\n",
       "Qty                         float64\n",
       "IsQtyEstimated                 bool\n",
       "AltQtyUnitCode                int64\n",
       "AltQtyUnitAbbr               object\n",
       "AltQty                      float64\n",
       "IsAltQtyEstimated              bool\n",
       "NetWgt                      float64\n",
       "IsNetWgtEstimated              bool\n",
       "GrossWgt                    float64\n",
       "IsGrossWgtEstimated            bool\n",
       "Cifvalue                    float64\n",
       "Fobvalue                    float64\n",
       "PrimaryValue                float64\n",
       "LegacyEstimationFlag          int64\n",
       "IsReported                     bool\n",
       "IsAggregate                    bool\n",
       "Unnamed: 47                 float64\n",
       "dtype: object"
      ]
     },
     "execution_count": 5,
     "metadata": {},
     "output_type": "execute_result"
    }
   ],
   "source": [
    "df.dtypes"
   ]
  },
  {
   "cell_type": "markdown",
   "id": "15ac3037",
   "metadata": {},
   "source": [
    "* We can see the data tpyes for all columns."
   ]
  },
  {
   "cell_type": "code",
   "execution_count": 6,
   "id": "3d45fcd5",
   "metadata": {},
   "outputs": [
    {
     "name": "stdout",
     "output_type": "stream",
     "text": [
      "<class 'pandas.core.frame.DataFrame'>\n",
      "RangeIndex: 368 entries, 0 to 367\n",
      "Data columns (total 48 columns):\n",
      " #   Column                    Non-Null Count  Dtype  \n",
      "---  ------                    --------------  -----  \n",
      " 0   TypeCode                  368 non-null    object \n",
      " 1   FreqCode                  368 non-null    object \n",
      " 2   RefPeriodId               368 non-null    int64  \n",
      " 3   RefYear                   368 non-null    int64  \n",
      " 4   RefMonth                  368 non-null    int64  \n",
      " 5   Period                    368 non-null    int64  \n",
      " 6   ReporterCode              368 non-null    int64  \n",
      " 7   ReporterISO               368 non-null    object \n",
      " 8   ReporterDesc              368 non-null    object \n",
      " 9   FlowCode                  368 non-null    object \n",
      " 10  FlowDesc                  368 non-null    object \n",
      " 11  PartnerCode               368 non-null    int64  \n",
      " 12  PartnerISO                368 non-null    object \n",
      " 13  PartnerDesc               368 non-null    object \n",
      " 14  Partner2Code              368 non-null    int64  \n",
      " 15  Partner2ISO               368 non-null    object \n",
      " 16  Partner2Desc              368 non-null    object \n",
      " 17  ClassificationCode        368 non-null    object \n",
      " 18  ClassificationSearchCode  368 non-null    object \n",
      " 19  IsOriginalClassification  368 non-null    bool   \n",
      " 20  CmdCode                   368 non-null    int64  \n",
      " 21  CmdDesc                   368 non-null    object \n",
      " 22  AggrLevel                 368 non-null    int64  \n",
      " 23  IsLeaf                    368 non-null    bool   \n",
      " 24  CustomsCode               368 non-null    object \n",
      " 25  CustomsDesc               368 non-null    object \n",
      " 26  MosCode                   368 non-null    int64  \n",
      " 27  MotCode                   368 non-null    int64  \n",
      " 28  MotDesc                   368 non-null    object \n",
      " 29  QtyUnitCode               368 non-null    int64  \n",
      " 30  QtyUnitAbbr               347 non-null    object \n",
      " 31  Qty                       368 non-null    float64\n",
      " 32  IsQtyEstimated            368 non-null    bool   \n",
      " 33  AltQtyUnitCode            368 non-null    int64  \n",
      " 34  AltQtyUnitAbbr            342 non-null    object \n",
      " 35  AltQty                    368 non-null    float64\n",
      " 36  IsAltQtyEstimated         368 non-null    bool   \n",
      " 37  NetWgt                    356 non-null    float64\n",
      " 38  IsNetWgtEstimated         368 non-null    bool   \n",
      " 39  GrossWgt                  239 non-null    float64\n",
      " 40  IsGrossWgtEstimated       368 non-null    bool   \n",
      " 41  Cifvalue                  17 non-null     float64\n",
      " 42  Fobvalue                  368 non-null    float64\n",
      " 43  PrimaryValue              368 non-null    float64\n",
      " 44  LegacyEstimationFlag      368 non-null    int64  \n",
      " 45  IsReported                368 non-null    bool   \n",
      " 46  IsAggregate               368 non-null    bool   \n",
      " 47  Unnamed: 47               0 non-null      float64\n",
      "dtypes: bool(8), float64(8), int64(14), object(18)\n",
      "memory usage: 118.0+ KB\n"
     ]
    }
   ],
   "source": [
    "df.info()"
   ]
  },
  {
   "cell_type": "markdown",
   "id": "b644ef09",
   "metadata": {},
   "source": [
    "* Also we can clearly see with non-null count plus data types for all columns"
   ]
  },
  {
   "cell_type": "code",
   "execution_count": 7,
   "id": "57c830d5",
   "metadata": {},
   "outputs": [
    {
     "data": {
      "text/html": [
       "<div>\n",
       "<style scoped>\n",
       "    .dataframe tbody tr th:only-of-type {\n",
       "        vertical-align: middle;\n",
       "    }\n",
       "\n",
       "    .dataframe tbody tr th {\n",
       "        vertical-align: top;\n",
       "    }\n",
       "\n",
       "    .dataframe thead th {\n",
       "        text-align: right;\n",
       "    }\n",
       "</style>\n",
       "<table border=\"1\" class=\"dataframe\">\n",
       "  <thead>\n",
       "    <tr style=\"text-align: right;\">\n",
       "      <th></th>\n",
       "      <th>RefPeriodId</th>\n",
       "      <th>RefYear</th>\n",
       "      <th>RefMonth</th>\n",
       "      <th>Period</th>\n",
       "      <th>ReporterCode</th>\n",
       "      <th>PartnerCode</th>\n",
       "      <th>Partner2Code</th>\n",
       "      <th>CmdCode</th>\n",
       "      <th>AggrLevel</th>\n",
       "      <th>MosCode</th>\n",
       "      <th>MotCode</th>\n",
       "      <th>QtyUnitCode</th>\n",
       "      <th>Qty</th>\n",
       "      <th>AltQtyUnitCode</th>\n",
       "      <th>AltQty</th>\n",
       "      <th>NetWgt</th>\n",
       "      <th>GrossWgt</th>\n",
       "      <th>Cifvalue</th>\n",
       "      <th>Fobvalue</th>\n",
       "      <th>PrimaryValue</th>\n",
       "      <th>LegacyEstimationFlag</th>\n",
       "      <th>Unnamed: 47</th>\n",
       "    </tr>\n",
       "  </thead>\n",
       "  <tbody>\n",
       "    <tr>\n",
       "      <th>count</th>\n",
       "      <td>3.680000e+02</td>\n",
       "      <td>368.000000</td>\n",
       "      <td>368.0</td>\n",
       "      <td>368.000000</td>\n",
       "      <td>368.000000</td>\n",
       "      <td>368.000000</td>\n",
       "      <td>368.0</td>\n",
       "      <td>368.000000</td>\n",
       "      <td>368.000000</td>\n",
       "      <td>368.0</td>\n",
       "      <td>368.0</td>\n",
       "      <td>368.000000</td>\n",
       "      <td>3.680000e+02</td>\n",
       "      <td>368.000000</td>\n",
       "      <td>3.680000e+02</td>\n",
       "      <td>356.000000</td>\n",
       "      <td>239.0</td>\n",
       "      <td>17.0</td>\n",
       "      <td>3.680000e+02</td>\n",
       "      <td>3.680000e+02</td>\n",
       "      <td>368.000000</td>\n",
       "      <td>0.0</td>\n",
       "    </tr>\n",
       "    <tr>\n",
       "      <th>mean</th>\n",
       "      <td>2.019736e+07</td>\n",
       "      <td>2019.725543</td>\n",
       "      <td>52.0</td>\n",
       "      <td>2019.725543</td>\n",
       "      <td>318.217391</td>\n",
       "      <td>494.831522</td>\n",
       "      <td>0.0</td>\n",
       "      <td>401029.627717</td>\n",
       "      <td>5.119565</td>\n",
       "      <td>0.0</td>\n",
       "      <td>0.0</td>\n",
       "      <td>7.486413</td>\n",
       "      <td>1.102788e+05</td>\n",
       "      <td>7.364130</td>\n",
       "      <td>1.377325e+05</td>\n",
       "      <td>9119.724034</td>\n",
       "      <td>0.0</td>\n",
       "      <td>0.0</td>\n",
       "      <td>4.105521e+08</td>\n",
       "      <td>4.105521e+08</td>\n",
       "      <td>0.456522</td>\n",
       "      <td>NaN</td>\n",
       "    </tr>\n",
       "    <tr>\n",
       "      <th>std</th>\n",
       "      <td>2.013091e+04</td>\n",
       "      <td>2.013091</td>\n",
       "      <td>0.0</td>\n",
       "      <td>2.013091</td>\n",
       "      <td>86.647248</td>\n",
       "      <td>283.515473</td>\n",
       "      <td>0.0</td>\n",
       "      <td>349803.862087</td>\n",
       "      <td>0.994178</td>\n",
       "      <td>0.0</td>\n",
       "      <td>0.0</td>\n",
       "      <td>2.090547</td>\n",
       "      <td>4.705406e+05</td>\n",
       "      <td>2.309326</td>\n",
       "      <td>6.304052e+05</td>\n",
       "      <td>26926.547545</td>\n",
       "      <td>0.0</td>\n",
       "      <td>0.0</td>\n",
       "      <td>1.211677e+09</td>\n",
       "      <td>1.211677e+09</td>\n",
       "      <td>1.592989</td>\n",
       "      <td>NaN</td>\n",
       "    </tr>\n",
       "    <tr>\n",
       "      <th>min</th>\n",
       "      <td>2.017010e+07</td>\n",
       "      <td>2017.000000</td>\n",
       "      <td>52.0</td>\n",
       "      <td>2017.000000</td>\n",
       "      <td>288.000000</td>\n",
       "      <td>0.000000</td>\n",
       "      <td>0.0</td>\n",
       "      <td>7108.000000</td>\n",
       "      <td>4.000000</td>\n",
       "      <td>0.0</td>\n",
       "      <td>0.0</td>\n",
       "      <td>-1.000000</td>\n",
       "      <td>0.000000e+00</td>\n",
       "      <td>-1.000000</td>\n",
       "      <td>0.000000e+00</td>\n",
       "      <td>0.000000</td>\n",
       "      <td>0.0</td>\n",
       "      <td>0.0</td>\n",
       "      <td>2.118613e+03</td>\n",
       "      <td>2.118613e+03</td>\n",
       "      <td>0.000000</td>\n",
       "      <td>NaN</td>\n",
       "    </tr>\n",
       "    <tr>\n",
       "      <th>25%</th>\n",
       "      <td>2.018010e+07</td>\n",
       "      <td>2018.000000</td>\n",
       "      <td>52.0</td>\n",
       "      <td>2018.000000</td>\n",
       "      <td>288.000000</td>\n",
       "      <td>276.000000</td>\n",
       "      <td>0.0</td>\n",
       "      <td>7108.000000</td>\n",
       "      <td>4.000000</td>\n",
       "      <td>0.0</td>\n",
       "      <td>0.0</td>\n",
       "      <td>8.000000</td>\n",
       "      <td>1.870000e+00</td>\n",
       "      <td>8.000000</td>\n",
       "      <td>1.840000e+00</td>\n",
       "      <td>1.060000</td>\n",
       "      <td>0.0</td>\n",
       "      <td>0.0</td>\n",
       "      <td>7.636318e+04</td>\n",
       "      <td>7.636318e+04</td>\n",
       "      <td>0.000000</td>\n",
       "      <td>NaN</td>\n",
       "    </tr>\n",
       "    <tr>\n",
       "      <th>50%</th>\n",
       "      <td>2.019010e+07</td>\n",
       "      <td>2019.000000</td>\n",
       "      <td>52.0</td>\n",
       "      <td>2019.000000</td>\n",
       "      <td>288.000000</td>\n",
       "      <td>586.000000</td>\n",
       "      <td>0.0</td>\n",
       "      <td>710812.000000</td>\n",
       "      <td>6.000000</td>\n",
       "      <td>0.0</td>\n",
       "      <td>0.0</td>\n",
       "      <td>8.000000</td>\n",
       "      <td>5.375000e+01</td>\n",
       "      <td>8.000000</td>\n",
       "      <td>5.187000e+01</td>\n",
       "      <td>13.470000</td>\n",
       "      <td>0.0</td>\n",
       "      <td>0.0</td>\n",
       "      <td>7.814786e+05</td>\n",
       "      <td>7.814786e+05</td>\n",
       "      <td>0.000000</td>\n",
       "      <td>NaN</td>\n",
       "    </tr>\n",
       "    <tr>\n",
       "      <th>75%</th>\n",
       "      <td>2.022010e+07</td>\n",
       "      <td>2022.000000</td>\n",
       "      <td>52.0</td>\n",
       "      <td>2022.000000</td>\n",
       "      <td>288.000000</td>\n",
       "      <td>757.000000</td>\n",
       "      <td>0.0</td>\n",
       "      <td>710813.000000</td>\n",
       "      <td>6.000000</td>\n",
       "      <td>0.0</td>\n",
       "      <td>0.0</td>\n",
       "      <td>8.000000</td>\n",
       "      <td>3.217799e+03</td>\n",
       "      <td>8.000000</td>\n",
       "      <td>2.329050e+03</td>\n",
       "      <td>688.179000</td>\n",
       "      <td>0.0</td>\n",
       "      <td>0.0</td>\n",
       "      <td>3.979433e+07</td>\n",
       "      <td>3.979433e+07</td>\n",
       "      <td>0.000000</td>\n",
       "      <td>NaN</td>\n",
       "    </tr>\n",
       "    <tr>\n",
       "      <th>max</th>\n",
       "      <td>2.023010e+07</td>\n",
       "      <td>2023.000000</td>\n",
       "      <td>52.0</td>\n",
       "      <td>2023.000000</td>\n",
       "      <td>566.000000</td>\n",
       "      <td>854.000000</td>\n",
       "      <td>0.0</td>\n",
       "      <td>710813.000000</td>\n",
       "      <td>6.000000</td>\n",
       "      <td>0.0</td>\n",
       "      <td>0.0</td>\n",
       "      <td>8.000000</td>\n",
       "      <td>3.816019e+06</td>\n",
       "      <td>8.000000</td>\n",
       "      <td>5.822523e+06</td>\n",
       "      <td>242131.663000</td>\n",
       "      <td>0.0</td>\n",
       "      <td>0.0</td>\n",
       "      <td>7.654650e+09</td>\n",
       "      <td>7.654650e+09</td>\n",
       "      <td>6.000000</td>\n",
       "      <td>NaN</td>\n",
       "    </tr>\n",
       "  </tbody>\n",
       "</table>\n",
       "</div>"
      ],
      "text/plain": [
       "        RefPeriodId      RefYear  RefMonth       Period  ReporterCode  PartnerCode  Partner2Code        CmdCode   AggrLevel  MosCode  MotCode  QtyUnitCode           Qty  AltQtyUnitCode        AltQty         NetWgt  GrossWgt  Cifvalue      Fobvalue  PrimaryValue  LegacyEstimationFlag  Unnamed: 47\n",
       "count  3.680000e+02   368.000000     368.0   368.000000    368.000000   368.000000         368.0     368.000000  368.000000    368.0    368.0   368.000000  3.680000e+02      368.000000  3.680000e+02     356.000000     239.0      17.0  3.680000e+02  3.680000e+02            368.000000          0.0\n",
       "mean   2.019736e+07  2019.725543      52.0  2019.725543    318.217391   494.831522           0.0  401029.627717    5.119565      0.0      0.0     7.486413  1.102788e+05        7.364130  1.377325e+05    9119.724034       0.0       0.0  4.105521e+08  4.105521e+08              0.456522          NaN\n",
       "std    2.013091e+04     2.013091       0.0     2.013091     86.647248   283.515473           0.0  349803.862087    0.994178      0.0      0.0     2.090547  4.705406e+05        2.309326  6.304052e+05   26926.547545       0.0       0.0  1.211677e+09  1.211677e+09              1.592989          NaN\n",
       "min    2.017010e+07  2017.000000      52.0  2017.000000    288.000000     0.000000           0.0    7108.000000    4.000000      0.0      0.0    -1.000000  0.000000e+00       -1.000000  0.000000e+00       0.000000       0.0       0.0  2.118613e+03  2.118613e+03              0.000000          NaN\n",
       "25%    2.018010e+07  2018.000000      52.0  2018.000000    288.000000   276.000000           0.0    7108.000000    4.000000      0.0      0.0     8.000000  1.870000e+00        8.000000  1.840000e+00       1.060000       0.0       0.0  7.636318e+04  7.636318e+04              0.000000          NaN\n",
       "50%    2.019010e+07  2019.000000      52.0  2019.000000    288.000000   586.000000           0.0  710812.000000    6.000000      0.0      0.0     8.000000  5.375000e+01        8.000000  5.187000e+01      13.470000       0.0       0.0  7.814786e+05  7.814786e+05              0.000000          NaN\n",
       "75%    2.022010e+07  2022.000000      52.0  2022.000000    288.000000   757.000000           0.0  710813.000000    6.000000      0.0      0.0     8.000000  3.217799e+03        8.000000  2.329050e+03     688.179000       0.0       0.0  3.979433e+07  3.979433e+07              0.000000          NaN\n",
       "max    2.023010e+07  2023.000000      52.0  2023.000000    566.000000   854.000000           0.0  710813.000000    6.000000      0.0      0.0     8.000000  3.816019e+06        8.000000  5.822523e+06  242131.663000       0.0       0.0  7.654650e+09  7.654650e+09              6.000000          NaN"
      ]
     },
     "execution_count": 7,
     "metadata": {},
     "output_type": "execute_result"
    }
   ],
   "source": [
    "df.describe()"
   ]
  },
  {
   "cell_type": "markdown",
   "id": "b5bcfed7",
   "metadata": {},
   "source": [
    "* General statistics about dataset. It also include outlier constants."
   ]
  },
  {
   "cell_type": "code",
   "execution_count": 8,
   "id": "bb8171c6",
   "metadata": {},
   "outputs": [
    {
     "data": {
      "text/plain": [
       "TypeCode                      0\n",
       "FreqCode                      0\n",
       "RefPeriodId                   0\n",
       "RefYear                       0\n",
       "RefMonth                      0\n",
       "Period                        0\n",
       "ReporterCode                  0\n",
       "ReporterISO                   0\n",
       "ReporterDesc                  0\n",
       "FlowCode                      0\n",
       "FlowDesc                      0\n",
       "PartnerCode                   0\n",
       "PartnerISO                    0\n",
       "PartnerDesc                   0\n",
       "Partner2Code                  0\n",
       "Partner2ISO                   0\n",
       "Partner2Desc                  0\n",
       "ClassificationCode            0\n",
       "ClassificationSearchCode      0\n",
       "IsOriginalClassification      0\n",
       "CmdCode                       0\n",
       "CmdDesc                       0\n",
       "AggrLevel                     0\n",
       "IsLeaf                        0\n",
       "CustomsCode                   0\n",
       "CustomsDesc                   0\n",
       "MosCode                       0\n",
       "MotCode                       0\n",
       "MotDesc                       0\n",
       "QtyUnitCode                   0\n",
       "QtyUnitAbbr                  21\n",
       "Qty                           0\n",
       "IsQtyEstimated                0\n",
       "AltQtyUnitCode                0\n",
       "AltQtyUnitAbbr               26\n",
       "AltQty                        0\n",
       "IsAltQtyEstimated             0\n",
       "NetWgt                       12\n",
       "IsNetWgtEstimated             0\n",
       "GrossWgt                    129\n",
       "IsGrossWgtEstimated           0\n",
       "Cifvalue                    351\n",
       "Fobvalue                      0\n",
       "PrimaryValue                  0\n",
       "LegacyEstimationFlag          0\n",
       "IsReported                    0\n",
       "IsAggregate                   0\n",
       "Unnamed: 47                 368\n",
       "dtype: int64"
      ]
     },
     "execution_count": 8,
     "metadata": {},
     "output_type": "execute_result"
    }
   ],
   "source": [
    "df.isnull().sum()"
   ]
  },
  {
   "cell_type": "markdown",
   "id": "f7e3afd6",
   "metadata": {},
   "source": [
    "* One of the most important function that gives NaN values in the dataset. As we can see that **Unnamed: 47** is unnecessery column and the other one can be **CifValue**."
   ]
  },
  {
   "cell_type": "markdown",
   "id": "cc3e075b",
   "metadata": {},
   "source": [
    "### Univariate Variable Analysis"
   ]
  },
  {
   "cell_type": "code",
   "execution_count": 9,
   "id": "31489eca",
   "metadata": {},
   "outputs": [
    {
     "data": {
      "text/plain": [
       "TypeCode                     object\n",
       "FreqCode                     object\n",
       "RefPeriodId                   int64\n",
       "RefYear                       int64\n",
       "RefMonth                      int64\n",
       "Period                        int64\n",
       "ReporterCode                  int64\n",
       "ReporterISO                  object\n",
       "ReporterDesc                 object\n",
       "FlowCode                     object\n",
       "FlowDesc                     object\n",
       "PartnerCode                   int64\n",
       "PartnerISO                   object\n",
       "PartnerDesc                  object\n",
       "Partner2Code                  int64\n",
       "Partner2ISO                  object\n",
       "Partner2Desc                 object\n",
       "ClassificationCode           object\n",
       "ClassificationSearchCode     object\n",
       "IsOriginalClassification       bool\n",
       "CmdCode                       int64\n",
       "CmdDesc                      object\n",
       "AggrLevel                     int64\n",
       "IsLeaf                         bool\n",
       "CustomsCode                  object\n",
       "CustomsDesc                  object\n",
       "MosCode                       int64\n",
       "MotCode                       int64\n",
       "MotDesc                      object\n",
       "QtyUnitCode                   int64\n",
       "QtyUnitAbbr                  object\n",
       "Qty                         float64\n",
       "IsQtyEstimated                 bool\n",
       "AltQtyUnitCode                int64\n",
       "AltQtyUnitAbbr               object\n",
       "AltQty                      float64\n",
       "IsAltQtyEstimated              bool\n",
       "NetWgt                      float64\n",
       "IsNetWgtEstimated              bool\n",
       "GrossWgt                    float64\n",
       "IsGrossWgtEstimated            bool\n",
       "Cifvalue                    float64\n",
       "Fobvalue                    float64\n",
       "PrimaryValue                float64\n",
       "LegacyEstimationFlag          int64\n",
       "IsReported                     bool\n",
       "IsAggregate                    bool\n",
       "Unnamed: 47                 float64\n",
       "dtype: object"
      ]
     },
     "execution_count": 9,
     "metadata": {},
     "output_type": "execute_result"
    }
   ],
   "source": [
    "data_types = df.dtypes\n",
    "data_types"
   ]
  },
  {
   "cell_type": "code",
   "execution_count": 10,
   "id": "d12ad722",
   "metadata": {},
   "outputs": [
    {
     "data": {
      "text/plain": [
       "Index(['TypeCode', 'FreqCode', 'ReporterISO', 'ReporterDesc', 'FlowCode',\n",
       "       'FlowDesc', 'PartnerISO', 'PartnerDesc', 'Partner2ISO', 'Partner2Desc',\n",
       "       'ClassificationCode', 'ClassificationSearchCode', 'CmdDesc',\n",
       "       'CustomsCode', 'CustomsDesc', 'MotDesc', 'QtyUnitAbbr',\n",
       "       'AltQtyUnitAbbr'],\n",
       "      dtype='object')"
      ]
     },
     "execution_count": 10,
     "metadata": {},
     "output_type": "execute_result"
    }
   ],
   "source": [
    "# Categorical Variables\n",
    "categorical_vars = df.select_dtypes(include=['object', 'category']).columns\n",
    "categorical_vars"
   ]
  },
  {
   "cell_type": "code",
   "execution_count": 11,
   "id": "53a45eaa",
   "metadata": {},
   "outputs": [],
   "source": [
    "#Numerical Variables\n",
    "numerical_vars = df.select_dtypes(include=['int64', 'float64']).columns\n",
    "\n",
    "# 'Unnamed: 47' sütununu çıkarmak için\n",
    "numerical_vars = numerical_vars.drop('Unnamed: 47')\n",
    "\n",
    "numerical_vars = numerical_vars"
   ]
  },
  {
   "cell_type": "markdown",
   "id": "259e0a76",
   "metadata": {},
   "source": [
    "#### Categorical Variable Analysis"
   ]
  },
  {
   "cell_type": "code",
   "execution_count": 12,
   "id": "ac2a9193",
   "metadata": {},
   "outputs": [
    {
     "data": {
      "image/png": "[encoded data removed]",
      "text/plain": [
       "<Figure size 720x216 with 1 Axes>"
      ]
     },
     "metadata": {
      "needs_background": "light"
     },
     "output_type": "display_data"
    },
    {
     "name": "stdout",
     "output_type": "stream",
     "text": [
      "TypeCode: \n",
      " C    368\n",
      "Name: TypeCode, dtype: int64\n"
     ]
    },
    {
     "data": {
      "image/png": "[encoded data removed]",
      "text/plain": [
       "<Figure size 720x216 with 1 Axes>"
      ]
     },
     "metadata": {
      "needs_background": "light"
     },
     "output_type": "display_data"
    },
    {
     "name": "stdout",
     "output_type": "stream",
     "text": [
      "FreqCode: \n",
      " A    368\n",
      "Name: FreqCode, dtype: int64\n"
     ]
    },
    {
     "data": {
      "image/png": "[encoded data removed]",
      "text/plain": [
       "<Figure size 720x216 with 1 Axes>"
      ]
     },
     "metadata": {
      "needs_background": "light"
     },
     "output_type": "display_data"
    },
    {
     "name": "stdout",
     "output_type": "stream",
     "text": [
      "ReporterISO: \n",
      " GHA    328\n",
      "NGA     40\n",
      "Name: ReporterISO, dtype: int64\n"
     ]
    },
    {
     "data": {
      "image/png": "[encoded data removed]",
      "text/plain": [
       "<Figure size 720x216 with 1 Axes>"
      ]
     },
     "metadata": {
      "needs_background": "light"
     },
     "output_type": "display_data"
    },
    {
     "name": "stdout",
     "output_type": "stream",
     "text": [
      "ReporterDesc: \n",
      " Ghana      328\n",
      "Nigeria     40\n",
      "Name: ReporterDesc, dtype: int64\n"
     ]
    },
    {
     "data": {
      "image/png": "[encoded data removed]",
      "text/plain": [
       "<Figure size 720x216 with 1 Axes>"
      ]
     },
     "metadata": {
      "needs_background": "light"
     },
     "output_type": "display_data"
    },
    {
     "name": "stdout",
     "output_type": "stream",
     "text": [
      "FlowCode: \n",
      " X    368\n",
      "Name: FlowCode, dtype: int64\n"
     ]
    },
    {
     "data": {
      "image/png": "[encoded data removed]",
      "text/plain": [
       "<Figure size 720x216 with 1 Axes>"
      ]
     },
     "metadata": {
      "needs_background": "light"
     },
     "output_type": "display_data"
    },
    {
     "name": "stdout",
     "output_type": "stream",
     "text": [
      "FlowDesc: \n",
      " Export    368\n",
      "Name: FlowDesc, dtype: int64\n"
     ]
    },
    {
     "data": {
      "image/png": "[encoded data removed]",
      "text/plain": [
       "<Figure size 720x216 with 1 Axes>"
      ]
     },
     "metadata": {
      "needs_background": "light"
     },
     "output_type": "display_data"
    },
    {
     "name": "stdout",
     "output_type": "stream",
     "text": [
      "PartnerISO: \n",
      " W00    33\n",
      "ARE    28\n",
      "IND    19\n",
      "TUR    19\n",
      "CHE    19\n",
      "HKG    15\n",
      "USA    14\n",
      "KOR    14\n",
      "ZAF    12\n",
      "BEL    10\n",
      "THA    10\n",
      "CAN    10\n",
      "JPN    10\n",
      "GBR     9\n",
      "ITA     9\n",
      "DEU     9\n",
      "SGP     8\n",
      "PAK     7\n",
      "ESP     7\n",
      "AUS     7\n",
      "SLE     7\n",
      "PRT     6\n",
      "QAT     6\n",
      "LBN     6\n",
      "CHN     6\n",
      "BRA     6\n",
      "POL     4\n",
      "OMN     4\n",
      "LVA     4\n",
      "SAU     4\n",
      "KWT     4\n",
      "NLD     4\n",
      "FRA     4\n",
      "MYS     4\n",
      "S19     4\n",
      "ISL     2\n",
      "BFA     2\n",
      "SEN     2\n",
      "CZE     2\n",
      "BGR     2\n",
      "TZA     2\n",
      "NZL     2\n",
      "NGA     2\n",
      "MLT     2\n",
      "AUT     2\n",
      "DNK     2\n",
      "EST     2\n",
      "FRO     2\n",
      "Name: PartnerISO, dtype: int64\n"
     ]
    },
    {
     "data": {
      "image/png": "[encoded data removed]",
      "text/plain": [
       "<Figure size 720x216 with 1 Axes>"
      ]
     },
     "metadata": {
      "needs_background": "light"
     },
     "output_type": "display_data"
    },
    {
     "name": "stdout",
     "output_type": "stream",
     "text": [
      "PartnerDesc: \n",
      " World                      33\n",
      "United Arab Emirates       28\n",
      "India                      19\n",
      "Türkiye                    19\n",
      "Switzerland                19\n",
      "China, Hong Kong SAR       15\n",
      "USA                        14\n",
      "Rep. of Korea              14\n",
      "South Africa               12\n",
      "Belgium                    10\n",
      "Thailand                   10\n",
      "Canada                     10\n",
      "Japan                      10\n",
      "United Kingdom              9\n",
      "Italy                       9\n",
      "Germany                     9\n",
      "Singapore                   8\n",
      "Pakistan                    7\n",
      "Spain                       7\n",
      "Australia                   7\n",
      "Sierra Leone                7\n",
      "Portugal                    6\n",
      "Qatar                       6\n",
      "Lebanon                     6\n",
      "China                       6\n",
      "Brazil                      6\n",
      "Poland                      4\n",
      "Oman                        4\n",
      "Latvia                      4\n",
      "Saudi Arabia                4\n",
      "Kuwait                      4\n",
      "Netherlands                 4\n",
      "France                      4\n",
      "Malaysia                    4\n",
      "Other Asia, nes             4\n",
      "Iceland                     2\n",
      "Burkina Faso                2\n",
      "Senegal                     2\n",
      "Czechia                     2\n",
      "Bulgaria                    2\n",
      "United Rep. of Tanzania     2\n",
      "New Zealand                 2\n",
      "Nigeria                     2\n",
      "Malta                       2\n",
      "Austria                     2\n",
      "Denmark                     2\n",
      "Estonia                     2\n",
      "Faeroe Isds                 2\n",
      "Name: PartnerDesc, dtype: int64\n"
     ]
    },
    {
     "data": {
      "image/png": "[encoded data removed]",
      "text/plain": [
       "<Figure size 720x216 with 1 Axes>"
      ]
     },
     "metadata": {
      "needs_background": "light"
     },
     "output_type": "display_data"
    },
    {
     "name": "stdout",
     "output_type": "stream",
     "text": [
      "Partner2ISO: \n",
      " W00    368\n",
      "Name: Partner2ISO, dtype: int64\n"
     ]
    },
    {
     "data": {
      "image/png": "[encoded data removed]",
      "text/plain": [
       "<Figure size 720x216 with 1 Axes>"
      ]
     },
     "metadata": {
      "needs_background": "light"
     },
     "output_type": "display_data"
    },
    {
     "name": "stdout",
     "output_type": "stream",
     "text": [
      "Partner2Desc: \n",
      " World    368\n",
      "Name: Partner2Desc, dtype: int64\n"
     ]
    },
    {
     "data": {
      "image/png": "[encoded data removed]",
      "text/plain": [
       "<Figure size 720x216 with 1 Axes>"
      ]
     },
     "metadata": {
      "needs_background": "light"
     },
     "output_type": "display_data"
    },
    {
     "name": "stdout",
     "output_type": "stream",
     "text": [
      "ClassificationCode: \n",
      " H5    269\n",
      "H4     82\n",
      "H6     17\n",
      "Name: ClassificationCode, dtype: int64\n"
     ]
    },
    {
     "data": {
      "image/png": "[encoded data removed]",
      "text/plain": [
       "<Figure size 720x216 with 1 Axes>"
      ]
     },
     "metadata": {
      "needs_background": "light"
     },
     "output_type": "display_data"
    },
    {
     "name": "stdout",
     "output_type": "stream",
     "text": [
      "ClassificationSearchCode: \n",
      " HS    368\n",
      "Name: ClassificationSearchCode, dtype: int64\n"
     ]
    },
    {
     "data": {
      "image/png": "[encoded data removed]",
      "text/plain": [
       "<Figure size 720x216 with 1 Axes>"
      ]
     },
     "metadata": {
      "needs_background": "light"
     },
     "output_type": "display_data"
    },
    {
     "name": "stdout",
     "output_type": "stream",
     "text": [
      "CmdDesc: \n",
      " Gold (including gold plated with platinum) unwrought or in semi-manufactured forms, or in powder form    162\n",
      "Metals; gold, semi-manufactured                                                                          145\n",
      "Metals; gold, non-monetary, unwrought (but not powder)                                                    51\n",
      "Metals; gold, non-monetary, powder                                                                        10\n",
      "Name: CmdDesc, dtype: int64\n"
     ]
    },
    {
     "data": {
      "image/png": "[encoded data removed]",
      "text/plain": [
       "<Figure size 720x216 with 1 Axes>"
      ]
     },
     "metadata": {
      "needs_background": "light"
     },
     "output_type": "display_data"
    },
    {
     "name": "stdout",
     "output_type": "stream",
     "text": [
      "CustomsCode: \n",
      " C00    368\n",
      "Name: CustomsCode, dtype: int64\n"
     ]
    },
    {
     "data": {
      "image/png": "[encoded data removed]",
      "text/plain": [
       "<Figure size 720x216 with 1 Axes>"
      ]
     },
     "metadata": {
      "needs_background": "light"
     },
     "output_type": "display_data"
    },
    {
     "name": "stdout",
     "output_type": "stream",
     "text": [
      "CustomsDesc: \n",
      " TOTAL CPC    368\n",
      "Name: CustomsDesc, dtype: int64\n"
     ]
    },
    {
     "data": {
      "image/png": "[encoded data removed]",
      "text/plain": [
       "<Figure size 720x216 with 1 Axes>"
      ]
     },
     "metadata": {
      "needs_background": "light"
     },
     "output_type": "display_data"
    },
    {
     "name": "stdout",
     "output_type": "stream",
     "text": [
      "MotDesc: \n",
      " TOTAL MOT    368\n",
      "Name: MotDesc, dtype: int64\n"
     ]
    },
    {
     "data": {
      "image/png": "[encoded data removed]",
      "text/plain": [
       "<Figure size 720x216 with 1 Axes>"
      ]
     },
     "metadata": {
      "needs_background": "light"
     },
     "output_type": "display_data"
    },
    {
     "name": "stdout",
     "output_type": "stream",
     "text": [
      "QtyUnitAbbr: \n",
      " kg    347\n",
      "Name: QtyUnitAbbr, dtype: int64\n"
     ]
    },
    {
     "data": {
      "image/png": "[encoded data removed]",
      "text/plain": [
       "<Figure size 720x216 with 1 Axes>"
      ]
     },
     "metadata": {
      "needs_background": "light"
     },
     "output_type": "display_data"
    },
    {
     "name": "stdout",
     "output_type": "stream",
     "text": [
      "AltQtyUnitAbbr: \n",
      " kg    342\n",
      "Name: AltQtyUnitAbbr, dtype: int64\n"
     ]
    }
   ],
   "source": [
    "def bar_plot(variable):\n",
    "    #get feature\n",
    "    var = df[variable]\n",
    "    \n",
    "    #count number of categorical variable (value/sample)\n",
    "    varValue = var.value_counts()\n",
    "    \n",
    "    #visualize\n",
    "    plt.figure(figsize = (10,3))\n",
    "    plt.bar(varValue.index, varValue)\n",
    "    plt.xticks(varValue.index, varValue.index.values, rotation=90)\n",
    "    plt.ylabel(\"Frequency\")\n",
    "    plt.title(variable)\n",
    "    plt.show()\n",
    "    \n",
    "    print(\"{}: \\n {}\".format(variable,varValue))\n",
    "\n",
    "for c in categorical_vars:\n",
    "    bar_plot(c)"
   ]
  },
  {
   "cell_type": "markdown",
   "id": "d21d0b58",
   "metadata": {},
   "source": [
    "#### Numerical Variable Analysis"
   ]
  },
  {
   "cell_type": "code",
   "execution_count": 13,
   "id": "341f969c",
   "metadata": {},
   "outputs": [
    {
     "data": {
      "image/png": "[encoded data removed]",
      "text/plain": [
       "<Figure size 648x216 with 1 Axes>"
      ]
     },
     "metadata": {
      "needs_background": "light"
     },
     "output_type": "display_data"
    },
    {
     "data": {
      "image/png": "[encoded data removed]",
      "text/plain": [
       "<Figure size 648x216 with 1 Axes>"
      ]
     },
     "metadata": {
      "needs_background": "light"
     },
     "output_type": "display_data"
    },
    {
     "data": {
      "image/png": "[encoded data removed]",
      "text/plain": [
       "<Figure size 648x216 with 1 Axes>"
      ]
     },
     "metadata": {
      "needs_background": "light"
     },
     "output_type": "display_data"
    },
    {
     "data": {
      "image/png": "[encoded data removed]",
      "text/plain": [
       "<Figure size 648x216 with 1 Axes>"
      ]
     },
     "metadata": {
      "needs_background": "light"
     },
     "output_type": "display_data"
    },
    {
     "data": {
      "image/png": "[encoded data removed]",
      "text/plain": [
       "<Figure size 648x216 with 1 Axes>"
      ]
     },
     "metadata": {
      "needs_background": "light"
     },
     "output_type": "display_data"
    },
    {
     "data": {
      "image/png": "[encoded data removed]",
      "text/plain": [
       "<Figure size 648x216 with 1 Axes>"
      ]
     },
     "metadata": {
      "needs_background": "light"
     },
     "output_type": "display_data"
    },
    {
     "data": {
      "image/png": "[encoded data removed]",
      "text/plain": [
       "<Figure size 648x216 with 1 Axes>"
      ]
     },
     "metadata": {
      "needs_background": "light"
     },
     "output_type": "display_data"
    },
    {
     "data": {
      "image/png": "[encoded data removed]",
      "text/plain": [
       "<Figure size 648x216 with 1 Axes>"
      ]
     },
     "metadata": {
      "needs_background": "light"
     },
     "output_type": "display_data"
    },
    {
     "data": {
      "image/png": "[encoded data removed]",
      "text/plain": [
       "<Figure size 648x216 with 1 Axes>"
      ]
     },
     "metadata": {
      "needs_background": "light"
     },
     "output_type": "display_data"
    },
    {
     "data": {
      "image/png": "[encoded data removed]",
      "text/plain": [
       "<Figure size 648x216 with 1 Axes>"
      ]
     },
     "metadata": {
      "needs_background": "light"
     },
     "output_type": "display_data"
    },
    {
     "data": {
      "image/png": "[encoded data removed]",
      "text/plain": [
       "<Figure size 648x216 with 1 Axes>"
      ]
     },
     "metadata": {
      "needs_background": "light"
     },
     "output_type": "display_data"
    },
    {
     "data": {
      "image/png": "[encoded data removed]",
      "text/plain": [
       "<Figure size 648x216 with 1 Axes>"
      ]
     },
     "metadata": {
      "needs_background": "light"
     },
     "output_type": "display_data"
    },
    {
     "data": {
      "image/png": "[encoded data removed]",
      "text/plain": [
       "<Figure size 648x216 with 1 Axes>"
      ]
     },
     "metadata": {
      "needs_background": "light"
     },
     "output_type": "display_data"
    },
    {
     "data": {
      "image/png": "[encoded data removed]",
      "text/plain": [
       "<Figure size 648x216 with 1 Axes>"
      ]
     },
     "metadata": {
      "needs_background": "light"
     },
     "output_type": "display_data"
    },
    {
     "data": {
      "image/png": "[encoded data removed]",
      "text/plain": [
       "<Figure size 648x216 with 1 Axes>"
      ]
     },
     "metadata": {
      "needs_background": "light"
     },
     "output_type": "display_data"
    },
    {
     "data": {
      "image/png": "[encoded data removed]",
      "text/plain": [
       "<Figure size 648x216 with 1 Axes>"
      ]
     },
     "metadata": {
      "needs_background": "light"
     },
     "output_type": "display_data"
    },
    {
     "data": {
      "image/png": "[encoded data removed]",
      "text/plain": [
       "<Figure size 648x216 with 1 Axes>"
      ]
     },
     "metadata": {
      "needs_background": "light"
     },
     "output_type": "display_data"
    },
    {
     "data": {
      "image/png": "[encoded data removed]",
      "text/plain": [
       "<Figure size 648x216 with 1 Axes>"
      ]
     },
     "metadata": {
      "needs_background": "light"
     },
     "output_type": "display_data"
    },
    {
     "data": {
      "image/png": "[encoded data removed]",
      "text/plain": [
       "<Figure size 648x216 with 1 Axes>"
      ]
     },
     "metadata": {
      "needs_background": "light"
     },
     "output_type": "display_data"
    },
    {
     "data": {
      "image/png": "[encoded data removed]",
      "text/plain": [
       "<Figure size 648x216 with 1 Axes>"
      ]
     },
     "metadata": {
      "needs_background": "light"
     },
     "output_type": "display_data"
    },
    {
     "data": {
      "image/png": "[encoded data removed]",
      "text/plain": [
       "<Figure size 648x216 with 1 Axes>"
      ]
     },
     "metadata": {
      "needs_background": "light"
     },
     "output_type": "display_data"
    }
   ],
   "source": [
    "def plot_hist(variable):\n",
    "    plt.figure(figsize = (9,3))\n",
    "    plt.hist(df[variable], bins = 50)\n",
    "    plt.xlabel(variable, rotation = 90)\n",
    "    plt.ylabel(\"frequency\")\n",
    "    plt.title(\"{} Distribution with hist\".format(variable))\n",
    "    plt.show()\n",
    "    \n",
    "for n in numerical_vars:\n",
    "    plot_hist(n)"
   ]
  },
  {
   "cell_type": "markdown",
   "id": "9fc0b449",
   "metadata": {},
   "source": [
    "#### Dropping Columns\n",
    "\n",
    "\n",
    "    \"Unnamed: 47\", \"RefPeriodId\", \"ReporterISO\", \"FlowCode\", \"PartnerCode\", \n",
    "    \"PartnerISO\", \"Partner2Desc\", \"ClassificationCode\", \"ClassificationSearchCode\", \n",
    "    \"IsOriginalClassification\", \"CmdCode\", \"CmdDesc\", \"AggrLevel\", \"IsLeaf\", \n",
    "    \"CustomsCode\", \"CustomsDesc\", \"MotCode\", \"QtyUnitCode\", \"IsQtyEstimated\", \n",
    "    \"IsAltQtyEstimated\", \"IsNetWgtEstimated\", \"GrossWgt\", \"IsGrossWgtEstimated\", \n",
    "    \"Cifvalue\", \"LegacyEstimationFlag\", \"IsReported\", \"IsAggregate\", \"MosCode\", \n",
    "    \"AltQtyUnitCode\"\n",
    "\n",
    "* I am dropping these columns from the dataset."
   ]
  },
  {
   "cell_type": "code",
   "execution_count": 14,
   "id": "dfd4258b",
   "metadata": {},
   "outputs": [
    {
     "data": {
      "text/html": [
       "<div>\n",
       "<style scoped>\n",
       "    .dataframe tbody tr th:only-of-type {\n",
       "        vertical-align: middle;\n",
       "    }\n",
       "\n",
       "    .dataframe tbody tr th {\n",
       "        vertical-align: top;\n",
       "    }\n",
       "\n",
       "    .dataframe thead th {\n",
       "        text-align: right;\n",
       "    }\n",
       "</style>\n",
       "<table border=\"1\" class=\"dataframe\">\n",
       "  <thead>\n",
       "    <tr style=\"text-align: right;\">\n",
       "      <th></th>\n",
       "      <th>RefYear</th>\n",
       "      <th>ReporterDesc</th>\n",
       "      <th>PartnerDesc</th>\n",
       "      <th>Qty</th>\n",
       "      <th>AltQty</th>\n",
       "      <th>NetWgt</th>\n",
       "      <th>PrimaryValue</th>\n",
       "    </tr>\n",
       "  </thead>\n",
       "  <tbody>\n",
       "    <tr>\n",
       "      <th>0</th>\n",
       "      <td>2017</td>\n",
       "      <td>Ghana</td>\n",
       "      <td>World</td>\n",
       "      <td>197809.923</td>\n",
       "      <td>0.00</td>\n",
       "      <td>NaN</td>\n",
       "      <td>5.858281e+09</td>\n",
       "    </tr>\n",
       "    <tr>\n",
       "      <th>1</th>\n",
       "      <td>2017</td>\n",
       "      <td>Ghana</td>\n",
       "      <td>Australia</td>\n",
       "      <td>28.140</td>\n",
       "      <td>28.14</td>\n",
       "      <td>28.14</td>\n",
       "      <td>1.103010e+06</td>\n",
       "    </tr>\n",
       "    <tr>\n",
       "      <th>2</th>\n",
       "      <td>2017</td>\n",
       "      <td>Ghana</td>\n",
       "      <td>Belgium</td>\n",
       "      <td>20.740</td>\n",
       "      <td>20.74</td>\n",
       "      <td>20.74</td>\n",
       "      <td>9.274560e+05</td>\n",
       "    </tr>\n",
       "    <tr>\n",
       "      <th>3</th>\n",
       "      <td>2017</td>\n",
       "      <td>Ghana</td>\n",
       "      <td>Brazil</td>\n",
       "      <td>0.590</td>\n",
       "      <td>0.59</td>\n",
       "      <td>0.59</td>\n",
       "      <td>4.926127e+03</td>\n",
       "    </tr>\n",
       "    <tr>\n",
       "      <th>4</th>\n",
       "      <td>2017</td>\n",
       "      <td>Ghana</td>\n",
       "      <td>Canada</td>\n",
       "      <td>0.460</td>\n",
       "      <td>0.46</td>\n",
       "      <td>0.46</td>\n",
       "      <td>1.940124e+04</td>\n",
       "    </tr>\n",
       "  </tbody>\n",
       "</table>\n",
       "</div>"
      ],
      "text/plain": [
       "   RefYear ReporterDesc PartnerDesc         Qty  AltQty  NetWgt  PrimaryValue\n",
       "0     2017        Ghana       World  197809.923    0.00     NaN  5.858281e+09\n",
       "1     2017        Ghana   Australia      28.140   28.14   28.14  1.103010e+06\n",
       "2     2017        Ghana     Belgium      20.740   20.74   20.74  9.274560e+05\n",
       "3     2017        Ghana      Brazil       0.590    0.59    0.59  4.926127e+03\n",
       "4     2017        Ghana      Canada       0.460    0.46    0.46  1.940124e+04"
      ]
     },
     "execution_count": 14,
     "metadata": {},
     "output_type": "execute_result"
    }
   ],
   "source": [
    "columns_to_drop = [\n",
    "    \"Unnamed: 47\", \"RefPeriodId\", \"ReporterISO\", \"FlowCode\", \"PartnerCode\", \n",
    "    \"PartnerISO\", \"Partner2Desc\", \"ClassificationCode\", \"ClassificationSearchCode\", \n",
    "    \"IsOriginalClassification\", \"CmdCode\", \"CmdDesc\", \"AggrLevel\", \"IsLeaf\", \n",
    "    \"CustomsCode\", \"CustomsDesc\", \"MotCode\", \"QtyUnitCode\", \"IsQtyEstimated\", \n",
    "    \"IsAltQtyEstimated\", \"IsNetWgtEstimated\", \"GrossWgt\", \"IsGrossWgtEstimated\", \n",
    "    \"Cifvalue\", \"LegacyEstimationFlag\", \"IsReported\", \"IsAggregate\", \"MosCode\", \n",
    "    \"AltQtyUnitCode\",\"TypeCode\", \"FreqCode\", \"RefMonth\", \"Period\", \"ReporterCode\", \"FlowDesc\", \"Partner2Code\",\n",
    "    \"Partner2ISO\", \"MotDesc\", \"QtyUnitAbbr\", \"AltQtyUnitAbbr\", \"Fobvalue\"\n",
    "]\n",
    "\n",
    "df.drop(columns=columns_to_drop, inplace=True)\n",
    "df.head()"
   ]
  },
  {
   "cell_type": "markdown",
   "id": "66b9c4cf",
   "metadata": {},
   "source": [
    "### Find & Fill Missing Values"
   ]
  },
  {
   "cell_type": "code",
   "execution_count": 15,
   "id": "fedb372c",
   "metadata": {},
   "outputs": [
    {
     "data": {
      "text/plain": [
       "RefYear          0\n",
       "ReporterDesc     0\n",
       "PartnerDesc      0\n",
       "Qty              0\n",
       "AltQty           0\n",
       "NetWgt          12\n",
       "PrimaryValue     0\n",
       "dtype: int64"
      ]
     },
     "execution_count": 15,
     "metadata": {},
     "output_type": "execute_result"
    }
   ],
   "source": [
    "df.isnull().sum()"
   ]
  },
  {
   "cell_type": "markdown",
   "id": "0ab4ea8b",
   "metadata": {},
   "source": [
    "#### Rows that have missing values"
   ]
  },
  {
   "cell_type": "code",
   "execution_count": 18,
   "id": "1960b22d",
   "metadata": {},
   "outputs": [
    {
     "data": {
      "text/html": [
       "<div>\n",
       "<style scoped>\n",
       "    .dataframe tbody tr th:only-of-type {\n",
       "        vertical-align: middle;\n",
       "    }\n",
       "\n",
       "    .dataframe tbody tr th {\n",
       "        vertical-align: top;\n",
       "    }\n",
       "\n",
       "    .dataframe thead th {\n",
       "        text-align: right;\n",
       "    }\n",
       "</style>\n",
       "<table border=\"1\" class=\"dataframe\">\n",
       "  <thead>\n",
       "    <tr style=\"text-align: right;\">\n",
       "      <th></th>\n",
       "      <th>RefYear</th>\n",
       "      <th>ReporterDesc</th>\n",
       "      <th>PartnerDesc</th>\n",
       "      <th>Qty</th>\n",
       "      <th>AltQty</th>\n",
       "      <th>NetWgt</th>\n",
       "      <th>PrimaryValue</th>\n",
       "    </tr>\n",
       "  </thead>\n",
       "  <tbody>\n",
       "    <tr>\n",
       "      <th>0</th>\n",
       "      <td>2017</td>\n",
       "      <td>Ghana</td>\n",
       "      <td>World</td>\n",
       "      <td>197809.923</td>\n",
       "      <td>0.00</td>\n",
       "      <td>NaN</td>\n",
       "      <td>5.858281e+09</td>\n",
       "    </tr>\n",
       "    <tr>\n",
       "      <th>14</th>\n",
       "      <td>2017</td>\n",
       "      <td>Ghana</td>\n",
       "      <td>Pakistan</td>\n",
       "      <td>139.883</td>\n",
       "      <td>0.00</td>\n",
       "      <td>NaN</td>\n",
       "      <td>4.105327e+06</td>\n",
       "    </tr>\n",
       "    <tr>\n",
       "      <th>33</th>\n",
       "      <td>2017</td>\n",
       "      <td>Ghana</td>\n",
       "      <td>World</td>\n",
       "      <td>193331.123</td>\n",
       "      <td>0.00</td>\n",
       "      <td>NaN</td>\n",
       "      <td>5.673955e+09</td>\n",
       "    </tr>\n",
       "    <tr>\n",
       "      <th>47</th>\n",
       "      <td>2017</td>\n",
       "      <td>Ghana</td>\n",
       "      <td>Pakistan</td>\n",
       "      <td>139.883</td>\n",
       "      <td>0.00</td>\n",
       "      <td>NaN</td>\n",
       "      <td>4.105327e+06</td>\n",
       "    </tr>\n",
       "    <tr>\n",
       "      <th>129</th>\n",
       "      <td>2018</td>\n",
       "      <td>Nigeria</td>\n",
       "      <td>World</td>\n",
       "      <td>0.000</td>\n",
       "      <td>0.00</td>\n",
       "      <td>NaN</td>\n",
       "      <td>6.325005e+04</td>\n",
       "    </tr>\n",
       "    <tr>\n",
       "      <th>131</th>\n",
       "      <td>2018</td>\n",
       "      <td>Nigeria</td>\n",
       "      <td>USA</td>\n",
       "      <td>0.000</td>\n",
       "      <td>0.00</td>\n",
       "      <td>NaN</td>\n",
       "      <td>3.830826e+04</td>\n",
       "    </tr>\n",
       "    <tr>\n",
       "      <th>132</th>\n",
       "      <td>2018</td>\n",
       "      <td>Nigeria</td>\n",
       "      <td>World</td>\n",
       "      <td>0.000</td>\n",
       "      <td>1001.00</td>\n",
       "      <td>NaN</td>\n",
       "      <td>6.325005e+04</td>\n",
       "    </tr>\n",
       "    <tr>\n",
       "      <th>134</th>\n",
       "      <td>2018</td>\n",
       "      <td>Nigeria</td>\n",
       "      <td>USA</td>\n",
       "      <td>0.000</td>\n",
       "      <td>1000.00</td>\n",
       "      <td>NaN</td>\n",
       "      <td>3.830826e+04</td>\n",
       "    </tr>\n",
       "    <tr>\n",
       "      <th>135</th>\n",
       "      <td>2019</td>\n",
       "      <td>Ghana</td>\n",
       "      <td>World</td>\n",
       "      <td>0.000</td>\n",
       "      <td>0.00</td>\n",
       "      <td>NaN</td>\n",
       "      <td>6.198864e+09</td>\n",
       "    </tr>\n",
       "    <tr>\n",
       "      <th>157</th>\n",
       "      <td>2019</td>\n",
       "      <td>Ghana</td>\n",
       "      <td>United Arab Emirates</td>\n",
       "      <td>0.000</td>\n",
       "      <td>0.00</td>\n",
       "      <td>NaN</td>\n",
       "      <td>8.303772e+08</td>\n",
       "    </tr>\n",
       "    <tr>\n",
       "      <th>174</th>\n",
       "      <td>2019</td>\n",
       "      <td>Ghana</td>\n",
       "      <td>World</td>\n",
       "      <td>0.000</td>\n",
       "      <td>1291935.17</td>\n",
       "      <td>NaN</td>\n",
       "      <td>5.928795e+09</td>\n",
       "    </tr>\n",
       "    <tr>\n",
       "      <th>195</th>\n",
       "      <td>2019</td>\n",
       "      <td>Ghana</td>\n",
       "      <td>United Arab Emirates</td>\n",
       "      <td>0.000</td>\n",
       "      <td>1156707.23</td>\n",
       "      <td>NaN</td>\n",
       "      <td>7.400471e+08</td>\n",
       "    </tr>\n",
       "  </tbody>\n",
       "</table>\n",
       "</div>"
      ],
      "text/plain": [
       "     RefYear ReporterDesc           PartnerDesc         Qty      AltQty  NetWgt  PrimaryValue\n",
       "0       2017        Ghana                 World  197809.923        0.00     NaN  5.858281e+09\n",
       "14      2017        Ghana              Pakistan     139.883        0.00     NaN  4.105327e+06\n",
       "33      2017        Ghana                 World  193331.123        0.00     NaN  5.673955e+09\n",
       "47      2017        Ghana              Pakistan     139.883        0.00     NaN  4.105327e+06\n",
       "129     2018      Nigeria                 World       0.000        0.00     NaN  6.325005e+04\n",
       "131     2018      Nigeria                   USA       0.000        0.00     NaN  3.830826e+04\n",
       "132     2018      Nigeria                 World       0.000     1001.00     NaN  6.325005e+04\n",
       "134     2018      Nigeria                   USA       0.000     1000.00     NaN  3.830826e+04\n",
       "135     2019        Ghana                 World       0.000        0.00     NaN  6.198864e+09\n",
       "157     2019        Ghana  United Arab Emirates       0.000        0.00     NaN  8.303772e+08\n",
       "174     2019        Ghana                 World       0.000  1291935.17     NaN  5.928795e+09\n",
       "195     2019        Ghana  United Arab Emirates       0.000  1156707.23     NaN  7.400471e+08"
      ]
     },
     "execution_count": 18,
     "metadata": {},
     "output_type": "execute_result"
    }
   ],
   "source": [
    "df[df['NetWgt'].isnull()]"
   ]
  },
  {
   "cell_type": "markdown",
   "id": "872007c1",
   "metadata": {},
   "source": [
    "#### Filling Missing Values"
   ]
  },
  {
   "cell_type": "code",
   "execution_count": 21,
   "id": "841aba34",
   "metadata": {},
   "outputs": [
    {
     "data": {
      "text/html": [
       "<div>\n",
       "<style scoped>\n",
       "    .dataframe tbody tr th:only-of-type {\n",
       "        vertical-align: middle;\n",
       "    }\n",
       "\n",
       "    .dataframe tbody tr th {\n",
       "        vertical-align: top;\n",
       "    }\n",
       "\n",
       "    .dataframe thead th {\n",
       "        text-align: right;\n",
       "    }\n",
       "</style>\n",
       "<table border=\"1\" class=\"dataframe\">\n",
       "  <thead>\n",
       "    <tr style=\"text-align: right;\">\n",
       "      <th></th>\n",
       "      <th>RefYear</th>\n",
       "      <th>ReporterDesc</th>\n",
       "      <th>PartnerDesc</th>\n",
       "      <th>Qty</th>\n",
       "      <th>AltQty</th>\n",
       "      <th>NetWgt</th>\n",
       "      <th>PrimaryValue</th>\n",
       "    </tr>\n",
       "  </thead>\n",
       "  <tbody>\n",
       "    <tr>\n",
       "      <th>0</th>\n",
       "      <td>2017</td>\n",
       "      <td>Ghana</td>\n",
       "      <td>World</td>\n",
       "      <td>197809.923</td>\n",
       "      <td>0.0</td>\n",
       "      <td>NaN</td>\n",
       "      <td>5.858281e+09</td>\n",
       "    </tr>\n",
       "    <tr>\n",
       "      <th>14</th>\n",
       "      <td>2017</td>\n",
       "      <td>Ghana</td>\n",
       "      <td>Pakistan</td>\n",
       "      <td>139.883</td>\n",
       "      <td>0.0</td>\n",
       "      <td>NaN</td>\n",
       "      <td>4.105327e+06</td>\n",
       "    </tr>\n",
       "    <tr>\n",
       "      <th>33</th>\n",
       "      <td>2017</td>\n",
       "      <td>Ghana</td>\n",
       "      <td>World</td>\n",
       "      <td>193331.123</td>\n",
       "      <td>0.0</td>\n",
       "      <td>NaN</td>\n",
       "      <td>5.673955e+09</td>\n",
       "    </tr>\n",
       "    <tr>\n",
       "      <th>47</th>\n",
       "      <td>2017</td>\n",
       "      <td>Ghana</td>\n",
       "      <td>Pakistan</td>\n",
       "      <td>139.883</td>\n",
       "      <td>0.0</td>\n",
       "      <td>NaN</td>\n",
       "      <td>4.105327e+06</td>\n",
       "    </tr>\n",
       "  </tbody>\n",
       "</table>\n",
       "</div>"
      ],
      "text/plain": [
       "    RefYear ReporterDesc PartnerDesc         Qty  AltQty  NetWgt  PrimaryValue\n",
       "0      2017        Ghana       World  197809.923     0.0     NaN  5.858281e+09\n",
       "14     2017        Ghana    Pakistan     139.883     0.0     NaN  4.105327e+06\n",
       "33     2017        Ghana       World  193331.123     0.0     NaN  5.673955e+09\n",
       "47     2017        Ghana    Pakistan     139.883     0.0     NaN  4.105327e+06"
      ]
     },
     "execution_count": 21,
     "metadata": {},
     "output_type": "execute_result"
    }
   ],
   "source": [
    "df['NetWgt'] = df.apply(\n",
    "    lambda row: 0 if pd.isnull(row['NetWgt']) and\n",
    "    row['Qty'] == 0 else row['NetWgt'], axis=1)\n",
    "\n",
    "df[df['NetWgt'].isnull()]"
   ]
  },
  {
   "cell_type": "markdown",
   "id": "8ce9548b",
   "metadata": {},
   "source": [
    "I have filled *NetWgt* column of NaN values wiht 0 when *Qty* is equal to 0. The rest NaN values can stay as created."
   ]
  },
  {
   "cell_type": "code",
   "execution_count": null,
   "id": "ce969006",
   "metadata": {},
   "outputs": [],
   "source": []
  }
 ],
 "metadata": {
  "kernelspec": {
   "display_name": "Python 3 (ipykernel)",
   "language": "python",
   "name": "python3"
  },
  "language_info": {
   "codemirror_mode": {
    "name": "ipython",
    "version": 3
   },
   "file_extension": ".py",
   "mimetype": "text/x-python",
   "name": "python",
   "nbconvert_exporter": "python",
   "pygments_lexer": "ipython3",
   "version": "3.8.12"
  }
 },
 "nbformat": 4,
 "nbformat_minor": 5
}

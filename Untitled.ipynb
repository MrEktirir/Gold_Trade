{
 "cells": [
  {
   "cell_type": "markdown",
   "id": "d1a9c95e",
   "metadata": {},
   "source": [
    "# Introduction"
   ]
  },
  {
   "cell_type": "markdown",
   "id": "a7f77015",
   "metadata": {},
   "source": [
    "With this data set, we will examine the gold export structure of Ghana and Nigeria worldwide. The aim is to evaluate the gold export trends, volumes and impact of these two countries on the world market. Dataset gathered form UN Comtrade."
   ]
  },
  {
   "cell_type": "markdown",
   "id": "ca838482",
   "metadata": {},
   "source": [
    "## Dataset Columns & Definitions"
   ]
  },
  {
   "cell_type": "markdown",
   "id": "932b1bf6",
   "metadata": {},
   "source": [
    "**TypeCode**: Identifies the type of record, typically indicating whether it's commercial goods, services, etc.\n",
    "\n",
    "**FreqCode**: Indicates the frequency of the data report (e.g., 'M' for monthly, 'A' for annual).\n",
    "\n",
    "**RefPeriodId**: A unique identifier for the reference period of the data, often combining year and month.\n",
    "\n",
    "**RefYear**: The year to which the data pertains.\n",
    "\n",
    "**RefMonth**: The month to which the data pertains.\n",
    "\n",
    "**Period**: A combined year and month format that specifies the exact period of the data report.\n",
    "\n",
    "**ReporterCode**: Numeric code representing the country that reported the data.\n",
    "\n",
    "**ReporterISO**: The ISO code of the reporting country.\n",
    "\n",
    "**ReporterDesc**: Descriptive name of the reporting country.\n",
    "\n",
    "**FlowCode**: Code indicating the direction of trade flow (e.g., exports or imports).\n",
    "\n",
    "**FlowDesc**: Description of the trade flow type.\n",
    "\n",
    "**PartnerCode**: Numeric code representing the partner country in the trade.\n",
    "\n",
    "**PartnerISO**: The ISO code of the partner country.\n",
    "\n",
    "**PartnerDesc**: Descriptive name of the partner country.\n",
    "\n",
    "**Partner2Code**: Numeric code for a secondary partner country, if applicable.\n",
    "\n",
    "**Partner2ISO**: ISO code of a secondary partner country.\n",
    "\n",
    "**Partner2Desc**: Description of a secondary partner country.\n",
    "\n",
    "**ClassificationCode**: Code of the classification used for the products or services in the report.\n",
    "\n",
    "**ClassificationSearchCode**: A searchable version of the classification code.\n",
    "\n",
    "**IsOriginalClassification**: Boolean indicating whether the classification is the original one used by the reporting country.\n",
    "\n",
    "**CmdCode**: Code for the commodity or service reported.\n",
    "\n",
    "**CmdDesc**: Description of the commodity or service.\n",
    "\n",
    "**AggrLevel**: Level of aggregation of the data.\n",
    "\n",
    "**IsLeaf**: Boolean indicating if the data point is at the lowest level of the classification tree.\n",
    "\n",
    "**CustomsCode**: Code used by customs for the reported items.\n",
    "\n",
    "**CustomsDesc**: Description of the customs code.\n",
    "\n",
    "**MosCode**: Code indicating the mode of shipment.\n",
    "\n",
    "**MotCode**: Mode of transport code.\n",
    "\n",
    "**MotDesc**: Description of the mode of transport.\n",
    "\n",
    "**QtyUnitCode**: Code for the unit of quantity in which the goods are measured.\n",
    "\n",
    "**QtyUnitAbbr**: Abbreviation of the quantity unit.\n",
    "\n",
    "**Qty**: Quantity of the goods traded.\n",
    "\n",
    "**IsQtyEstimated**: Boolean indicating whether the quantity is estimated.\n",
    "\n",
    "**AltQtyUnitCode**: Code for an alternate unit of quantity.\n",
    "\n",
    "**AltQtyUnitAbbr**: Abbreviation for the alternate unit of quantity.\n",
    "\n",
    "**AltQty**: Alternate quantity measurement, if used.\n",
    "\n",
    "**IsAltQtyEstimated**: Boolean indicating whether the alternate quantity is estimated.\n",
    "\n",
    "**NetWgt**: Net weight of the goods traded.\n",
    "\n",
    "**IsNetWgtEstimated**: Boolean indicating whether the net weight is estimated.\n",
    "\n",
    "**GrossWgt**: Gross weight of the goods traded.\n",
    "\n",
    "**IsGrossWgtEstimated**: Boolean indicating whether the gross weight is estimated.\n",
    "\n",
    "**Cifvalue**: CIF (Cost, Insurance, Freight) value of the goods imported.\n",
    "\n",
    "**Fobvalue**: FOB (Free on Board) value of the goods exported.\n",
    "\n",
    "**PrimaryValue**: The primary monetary value of the trade.\n",
    "\n",
    "**LegacyEstimationFlag**: Indicates if the values are based on legacy estimation methods.\n",
    "\n",
    "**IsReported**: Boolean indicating whether the data was directly reported by the country.\n",
    "\n",
    "**IsAggregate**: Boolean indicating whether the data is an aggregation of multiple records."
   ]
  },
  {
   "cell_type": "markdown",
   "id": "68330012",
   "metadata": {},
   "source": [
    "## "
   ]
  }
 ],
 "metadata": {
  "kernelspec": {
   "display_name": "Python 3 (ipykernel)",
   "language": "python",
   "name": "python3"
  },
  "language_info": {
   "codemirror_mode": {
    "name": "ipython",
    "version": 3
   },
   "file_extension": ".py",
   "mimetype": "text/x-python",
   "name": "python",
   "nbconvert_exporter": "python",
   "pygments_lexer": "ipython3",
   "version": "3.8.12"
  }
 },
 "nbformat": 4,
 "nbformat_minor": 5
}
